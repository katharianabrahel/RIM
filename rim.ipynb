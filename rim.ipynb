{
 "cells": [
  {
   "cell_type": "code",
   "execution_count": 2,
   "metadata": {},
   "outputs": [],
   "source": [
    "import numpy as np\n"
   ]
  },
  {
   "cell_type": "code",
   "execution_count": 3,
   "metadata": {},
   "outputs": [],
   "source": [
    "def normalize(value, range_, ideal):\n",
    "    min_val, max_val = range_\n",
    "    if value in ideal:\n",
    "        return 1.0\n",
    "    \n",
    "    if value < min(ideal):\n",
    "        return 1 - (min(ideal) - value) / (min(ideal) - min_val)\n",
    "    \n",
    "    return 1 - (value - max(ideal)) / (max_val - max(ideal))\n",
    "\n",
    "\n",
    "def normalize_candidates(candidates, ranges, ideal_ref):\n",
    "    normalized_data = {}\n",
    "    for candidate, values in candidates.items():\n",
    "        normalized_values = []\n",
    "        for i, (criterion, value) in enumerate(zip(ranges.keys(), values)):\n",
    "            normalized_values.append(normalize(value, ranges[criterion], ideal_ref[criterion]))\n",
    "        normalized_data[candidate] = normalized_values\n",
    "    return normalized_data\n",
    "\n",
    "\n",
    "def weighted_normalized_matrix(normalized_data, weights):\n",
    "    normalized_array = np.array([values for values in normalized_data.values()])\n",
    "    weighted_normalized_array = normalized_array * weights\n",
    "    return weighted_normalized_array\n",
    "\n",
    "\n",
    "def calculate_I_plus_minus(weighted_normalized_array, weights):\n",
    "    I_plus = np.sqrt(np.sum((weighted_normalized_array - weights) ** 2, axis=1))\n",
    "    I_minus = np.sqrt(np.sum(weighted_normalized_array ** 2, axis=1))\n",
    "    return I_plus, I_minus\n",
    "\n",
    "\n",
    "def calculate_R(I_plus, I_minus):\n",
    "    return I_minus / (I_plus + I_minus)\n",
    "\n",
    "\n",
    "def rank_candidates(candidates, R):\n",
    "    results = {candidate: r for candidate, r in zip(candidates.keys(), R)}\n",
    "    sorted_results = sorted(results.items(), key=lambda item: item[1], reverse=True)\n",
    "    return sorted_results\n"
   ]
  },
  {
   "cell_type": "code",
   "execution_count": 4,
   "metadata": {},
   "outputs": [],
   "source": [
    "candidates = {\n",
    "    'A': [30, 0, 2, 3, 3, 2],\n",
    "    'B': [40, 9, 1, 3, 2, 2],\n",
    "    'C': [25, 0, 3, 1, 3, 2],\n",
    "    'D': [27, 0, 5, 3, 3, 1],\n",
    "    'E': [45, 15, 2, 2, 3, 4]\n",
    "}\n",
    "\n",
    "weights = [0.2262, 0.2143, 0.1786, 0.1429, 0.1190, 0.1190]\n",
    "\n",
    "ranges = {\n",
    "    'C1': [23, 60],\n",
    "    'C2': [0, 15],\n",
    "    'C3': [0, 10],\n",
    "    'C4': [1, 3],  # Ruim (1), Razoável (2), Bom (3)\n",
    "    'C5': [1, 3],  # Total (1), Parcial (2), Sem (3)\n",
    "    'C6': [1, 5]   # Baixa (1), Normal Baixa (2), Normal (3), Normal Alta (4), Alta (5)\n",
    "}\n",
    "\n",
    "ideal_ref = {\n",
    "    'C1': [30, 35],\n",
    "    'C2': [10, 15],\n",
    "    'C3': [0],\n",
    "    'C4': [3],\n",
    "    'C5': [3],\n",
    "    'C6': [4, 5]\n",
    "}"
   ]
  },
  {
   "cell_type": "code",
   "execution_count": 5,
   "metadata": {},
   "outputs": [
    {
     "data": {
      "text/plain": [
       "{'A': [1.0, 0.0, 0.8, 1.0, 1.0, 0.33333333333333337],\n",
       " 'B': [0.8, 0.9, 0.9, 1.0, 0.5, 0.33333333333333337],\n",
       " 'C': [0.2857142857142857, 0.0, 0.7, 0.0, 1.0, 0.33333333333333337],\n",
       " 'D': [0.5714285714285714, 0.0, 0.5, 1.0, 1.0, 0.0],\n",
       " 'E': [0.6, 1.0, 0.8, 0.5, 1.0, 1.0]}"
      ]
     },
     "execution_count": 5,
     "metadata": {},
     "output_type": "execute_result"
    }
   ],
   "source": [
    "normalized_data = normalize_candidates(candidates, ranges, ideal_ref)\n",
    "normalized_data"
   ]
  },
  {
   "cell_type": "code",
   "execution_count": 6,
   "metadata": {},
   "outputs": [
    {
     "name": "stdout",
     "output_type": "stream",
     "text": [
      "Ponderado:\n",
      " [[0.2262     0.         0.14288    0.1429     0.119      0.03966667]\n",
      " [0.18096    0.19287    0.16074    0.1429     0.0595     0.03966667]\n",
      " [0.06462857 0.         0.12502    0.         0.119      0.03966667]\n",
      " [0.12925714 0.         0.0893     0.1429     0.119      0.        ]\n",
      " [0.13572    0.2143     0.14288    0.07145    0.119      0.119     ]]\n"
     ]
    }
   ],
   "source": [
    "weighted_normalized_array = weighted_normalized_matrix(normalized_data, weights)\n",
    "print(\"Ponderado:\\n\",weighted_normalized_array)"
   ]
  },
  {
   "cell_type": "code",
   "execution_count": 7,
   "metadata": {},
   "outputs": [
    {
     "name": "stdout",
     "output_type": "stream",
     "text": [
      "\n",
      "I_plus:\n",
      "A: 0.231288\n",
      "B: 0.112512\n",
      "C: 0.318771\n",
      "D: 0.278313\n",
      "E: 0.120697\n"
     ]
    }
   ],
   "source": [
    "I_plus, I_minus = calculate_I_plus_minus(weighted_normalized_array, weights)\n",
    "print(\"\\nI_plus:\")\n",
    "for candidate, value in zip(candidates.keys(), I_plus):\n",
    "    print(f\"{candidate}: {value:.6f}\")"
   ]
  },
  {
   "cell_type": "code",
   "execution_count": 8,
   "metadata": {},
   "outputs": [
    {
     "name": "stdout",
     "output_type": "stream",
     "text": [
      "\n",
      "I_minus:\n",
      "A: 0.328232\n",
      "B: 0.348306\n",
      "C: 0.188524\n",
      "D: 0.243441\n",
      "E: 0.343782\n"
     ]
    }
   ],
   "source": [
    "print(\"\\nI_minus:\")\n",
    "for candidate, value in zip(candidates.keys(), I_minus):\n",
    "    print(f\"{candidate}: {value:.6f}\")"
   ]
  },
  {
   "cell_type": "code",
   "execution_count": 9,
   "metadata": {},
   "outputs": [
    {
     "name": "stdout",
     "output_type": "stream",
     "text": [
      "\n",
      "R:\n",
      "A: 0.586631\n",
      "B: 0.755843\n",
      "C: 0.371626\n",
      "D: 0.466582\n",
      "E: 0.740146\n"
     ]
    }
   ],
   "source": [
    "R = calculate_R(I_plus, I_minus)\n",
    "print(\"\\nR:\")\n",
    "for candidate, value in zip(candidates.keys(), R):\n",
    "    print(f\"{candidate}: {value:.6f}\")"
   ]
  },
  {
   "cell_type": "code",
   "execution_count": 10,
   "metadata": {},
   "outputs": [
    {
     "name": "stdout",
     "output_type": "stream",
     "text": [
      "Candidato B: 0.7558\n",
      "Candidato E: 0.7401\n",
      "Candidato A: 0.5866\n",
      "Candidato D: 0.4666\n",
      "Candidato C: 0.3716\n"
     ]
    }
   ],
   "source": [
    "sorted_results = rank_candidates(candidates, R)\n",
    "for candidate, score in sorted_results:\n",
    "    print(f'Candidato {candidate}: {score:.4f}')"
   ]
  }
 ],
 "metadata": {
  "kernelspec": {
   "display_name": "Python 3",
   "language": "python",
   "name": "python3"
  },
  "language_info": {
   "codemirror_mode": {
    "name": "ipython",
    "version": 3
   },
   "file_extension": ".py",
   "mimetype": "text/x-python",
   "name": "python",
   "nbconvert_exporter": "python",
   "pygments_lexer": "ipython3",
   "version": "3.12.4"
  }
 },
 "nbformat": 4,
 "nbformat_minor": 2
}
